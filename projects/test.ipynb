{
 "cells": [
  {
   "cell_type": "code",
   "execution_count": null,
   "metadata": {},
   "outputs": [],
   "source": [
    "import pandas as pd\n",
    "import numpy as np\n"
   ]
  },
  {
   "cell_type": "code",
   "execution_count": 241,
   "metadata": {},
   "outputs": [],
   "source": [
    "# Generate random Dataset\n",
    "\n",
    "import random\n",
    "import os\n",
    "\n",
    "\n",
    "l = ['q1', 'q2', 'q4', 'q4']\n",
    "\n",
    "q  = []\n",
    "a = []\n",
    "b = []\n",
    "c = []\n",
    "d = []\n",
    "\n",
    "# Generate Random data\n",
    "for i in range(50):\n",
    "    q.append(random.choice(l))\n",
    "    a.append(random.randint(1,4))\n",
    "    b.append(random.randint(1,4))\n",
    "    c.append(random.randint(1,4))\n",
    "    d.append(random.randint(1,4))\n",
    "\n",
    "data = {\n",
    "    'Q': q,\n",
    "    \"S1\" : a,\n",
    "    'S2': b,\n",
    "    'S3': c,\n",
    "    'S4': d\n",
    "}\n",
    "\n",
    "df = pd.DataFrame(data)\n",
    "df.head()\n",
    "# Save to path\n",
    "path = r'E:\\Programming\\Data Science Learning\\Practice-Datasets\\waste'\n",
    "df.to_csv(os.path.join(path, 'random-dataset4.csv'))"
   ]
  },
  {
   "cell_type": "markdown",
   "metadata": {},
   "source": []
  },
  {
   "cell_type": "code",
   "execution_count": 242,
   "metadata": {},
   "outputs": [
    {
     "name": "stdout",
     "output_type": "stream",
     "text": [
      "<class 'pandas.core.frame.DataFrame'>\n",
      "RangeIndex: 50 entries, 0 to 49\n",
      "Data columns (total 5 columns):\n",
      " #   Column  Non-Null Count  Dtype \n",
      "---  ------  --------------  ----- \n",
      " 0   Q       50 non-null     object\n",
      " 1   S1      50 non-null     int64 \n",
      " 2   S2      50 non-null     int64 \n",
      " 3   S3      50 non-null     int64 \n",
      " 4   S4      50 non-null     int64 \n",
      "dtypes: int64(4), object(1)\n",
      "memory usage: 2.1+ KB\n",
      "     Q  S2  S3  S4\n",
      "S1                \n",
      "1   16  16  16  16\n",
      "2   11  11  11  11\n",
      "3   13  13  13  13\n",
      "4   10  10  10  10\n",
      "     Q  S1  S3  S4\n",
      "S2                \n",
      "1   10  10  10  10\n",
      "2    9   9   9   9\n",
      "3   16  16  16  16\n",
      "4   15  15  15  15\n",
      "     Q  S1  S2  S4\n",
      "S3                \n",
      "1   15  15  15  15\n",
      "2   11  11  11  11\n",
      "3    9   9   9   9\n",
      "4   15  15  15  15\n",
      "     Q  S1  S2  S3\n",
      "S4                \n",
      "1   18  18  18  18\n",
      "2   10  10  10  10\n",
      "3   10  10  10  10\n",
      "4   12  12  12  12\n"
     ]
    },
    {
     "name": "stderr",
     "output_type": "stream",
     "text": [
      "'data1.sort_values' is not recognized as an internal or external command,\n",
      "operable program or batch file.\n"
     ]
    }
   ],
   "source": [
    "# Open path\n",
    "data1 = pd.read_csv(r'E:\\Programming\\Data Science Learning\\Practice-Datasets\\waste\\random-dataset4.csv')\n",
    "data1.head()\n",
    "\n",
    "data1 = data1.iloc[: , 1:]\n",
    "\n",
    "data1.info()\n",
    "! = data1.sort_values(by=['Q','S1', 'S2', 'S3', 'S4'])\n",
    "\n",
    "\n",
    "# Sort by answer and count them\n",
    "z = data1.groupby('S1').count()\n",
    "x = data1.groupby('S2').count()\n",
    "s = data1.groupby('S3').count()\n",
    "g = data1.groupby('S4').count()\n",
    "print(z)\n",
    "print(x)\n",
    "print(s)\n",
    "print(g)"
   ]
  },
  {
   "cell_type": "code",
   "execution_count": 243,
   "metadata": {},
   "outputs": [
    {
     "name": "stdout",
     "output_type": "stream",
     "text": [
      "S1\n",
      "1    16\n",
      "2    11\n",
      "3    13\n",
      "4    10\n",
      "Name: Q, dtype: int64\n",
      "     Q  S2  S3  S4\n",
      "S1                \n",
      "1   16  16  16  16\n",
      "2   11  11  11  11\n",
      "3   13  13  13  13\n",
      "4   10  10  10  10\n",
      "     Q  S1  S2  S4\n",
      "S3                \n",
      "1   15  15  15  15\n",
      "2   11  11  11  11\n",
      "3    9   9   9   9\n",
      "4   15  15  15  15\n",
      "     Q  S1  S2  S4\n",
      "S3                \n",
      "1   15  15  15  15\n",
      "2   11  11  11  11\n",
      "3    9   9   9   9\n",
      "4   15  15  15  15\n",
      "     Q  S1  S2  S3\n",
      "S4                \n",
      "1   18  18  18  18\n",
      "2   10  10  10  10\n",
      "3   10  10  10  10\n",
      "4   12  12  12  12\n"
     ]
    }
   ],
   "source": [
    "# Convert counted data to pandas DataFrame\n",
    "df1 = pd.DataFrame(z)\n",
    "df2 = pd.DataFrame(s)\n",
    "df3 = pd.DataFrame(s)\n",
    "df4 = pd.DataFrame(g)\n",
    "\n",
    "print(df1['Q'])\n",
    "\n",
    "print(df1)\n",
    "print(df2)\n",
    "print(df3)\n",
    "print(df4)\n",
    "\n",
    "\n"
   ]
  },
  {
   "cell_type": "code",
   "execution_count": 244,
   "metadata": {},
   "outputs": [
    {
     "name": "stdout",
     "output_type": "stream",
     "text": [
      "Question Nuber 1\n",
      "0.32\n",
      "0.22\n",
      "0.26\n",
      "0.2\n",
      "Total:  1.0\n",
      "Question Nuber 2\n",
      "0.3\n",
      "0.22\n",
      "0.18\n",
      "0.3\n",
      "Total:  1.0\n",
      "Question Nuber 3\n",
      "0.3\n",
      "0.22\n",
      "0.18\n",
      "0.3\n",
      "Total:  1.0\n",
      "Question Nuber 4\n",
      "0.36\n",
      "0.2\n",
      "0.2\n",
      "0.24\n",
      "Total:  1.0\n"
     ]
    }
   ],
   "source": [
    "# Percent Function\n",
    "def  a(x,z):\n",
    "    print(f'Question Nuber {z}')\n",
    "    q = 0\n",
    "    for i in x[\"Q\"]:\n",
    "      \n",
    "        c =  i/50\n",
    "        q += c\n",
    "        print(c)\n",
    "    print(f\"Total: \",q)\n",
    "\n",
    "a(df1,  1)\n",
    "a(df2, 2)\n",
    "a(df3, 3)\n",
    "a(df4, 4)"
   ]
  }
 ],
 "metadata": {
  "interpreter": {
   "hash": "4b9d7b5a4a973a4a88cf4dbc367688ee93c800ac75b41a96d728d4c56d1d6a0f"
  },
  "kernelspec": {
   "display_name": "Python 3.10.4 64-bit",
   "language": "python",
   "name": "python3"
  },
  "language_info": {
   "codemirror_mode": {
    "name": "ipython",
    "version": 3
   },
   "file_extension": ".py",
   "mimetype": "text/x-python",
   "name": "python",
   "nbconvert_exporter": "python",
   "pygments_lexer": "ipython3",
   "version": "3.10.4"
  },
  "orig_nbformat": 4
 },
 "nbformat": 4,
 "nbformat_minor": 2
}
